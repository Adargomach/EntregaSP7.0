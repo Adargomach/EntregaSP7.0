{
  "cells": [
    {
      "cell_type": "markdown",
      "metadata": {
        "id": "yU4DEf3HBMru"
      },
      "source": [
        "\n",
        "\n",
        "1.   Dos motos viajan a diferentes velocidades (**vel1** y **vel2**) y están distanciados por una distancia **dis**. La moto que se encuentra detrás lleva una velocidad mayor que la primera. Se pide realizar un script en python que solicite al usuario la distancia entre las motos en km y las velocidades de las mismas y con ello devolver en cuanto tiempo la moto 2 alcanzará a la moto 1."
      ]
    },
    {
      "cell_type": "code",
      "execution_count": null,
      "metadata": {
        "colab": {
          "base_uri": "https://localhost:8080/"
        },
        "id": "nLCVu66ZDnpq",
        "outputId": "14e9e2c9-da85-4655-bdb7-16b707bad679"
      },
      "outputs": [
        {
          "name": "stdout",
          "output_type": "stream",
          "text": [
            "Introduzca la distancia entre las motos en kilómetros: 30\n",
            "Introduzca la velocidad de la primera moto en km/h: 10\n",
            "Introduzca la velocidad de la segunda moto en km/h (debe ser mayor que la velocidad de la primera moto): 40\n",
            "La segunda moto alcanzará a la primera moto en 1.0 horas.\n"
          ]
        }
      ],
      "source": [
        "# Solicitar al usuario la distancia y velocidades de las motos\n",
        "d = int(input(\"Introduzca la distancia entre las motos en kilómetros: \"))\n",
        "vel1 = int(input(\"Introduzca la velocidad de la primera moto en km/h: \"))\n",
        "vel2 = int(input(\"Introduzca la velocidad de la segunda moto en km/h (debe ser mayor que la velocidad de la primera moto): \"))\n",
        "\n",
        "# Verificar que la velocidad de la segunda moto es mayor que la velocidad de la primera\n",
        "if vel2 <= vel1:\n",
        "    print(\"Error: La velocidad de la segunda moto debe ser mayor que la velocidad de la primera moto.\")\n",
        "else:\n",
        "    # Calcular el tiempo necesario para que la segunda moto alcance a la primera\n",
        "    tiempo_alcance = d / (vel2 - vel1)\n",
        "\n",
        "    # Mostrar el resultado\n",
        "    print(f\"La segunda moto alcanzará a la primera moto en {tiempo_alcance} horas.\")\n"
      ]
    },
    {
      "cell_type": "markdown",
      "metadata": {
        "id": "bTX1b7swDmVd"
      },
      "source": [
        "2. El tutor de 2º ASIR esta organizando un viaje a Granada, y requiere determinar cuánto debe cobrar a cada alumne y cuánto debe pagar a la agencia de viajes. La forma de cobrar es la siguiente: si son 100 alumnos o más, el costo por cada alumno es de 65 euros; de 50 a 99 alumnos, el costo es de 70 euros, de 30 a 49, de 95 euros, y si son menos de 30, el costo de la guagua es de 4000 euros, sin importar el número de alumnos. Realice un script que permita determinar el pago a la compañía de guaguas y lo que debe pagar cada alumno por el viaje."
      ]
    },
    {
      "cell_type": "code",
      "execution_count": null,
      "metadata": {
        "colab": {
          "base_uri": "https://localhost:8080/"
        },
        "id": "1_orCltzEQhh",
        "outputId": "d275b50b-b4d2-4be7-cef5-7b76399972f2"
      },
      "outputs": [
        {
          "name": "stdout",
          "output_type": "stream",
          "text": [
            "La cantidad de alumnos son: 3\n",
            "El costo de la guagua será de 4000€ en total y el pago hacia la agencia 1333.3333333333333\n"
          ]
        }
      ],
      "source": [
        "#Añadimos la cantidad de alumnos mediante un parametro de entrada, después dependiendo de la cantidad de alumnos, nos devolverá un valor final teniendo en cuenta la cantidad de alumnos\n",
        "Alumnos=float(input(\"La cantidad de alumnos son: \"))\n",
        "if (Alumnos >=100):\n",
        "  print(\"El costo será de 65€ por alumno y el pago hacia la agencia\" , Alumnos * 65)\n",
        "elif (Alumnos >=50):\n",
        "  print(\"El costo será de 70€ y el pago hacia la agencia\" , Alumnos * 70)\n",
        "elif (Alumnos >=30):\n",
        "  print(\"El costo será de 95€ y el pago hacia la agencia\" , Alumnos * 95)\n",
        "else:\n",
        "  print(\"El costo de la guagua será de 4000€ en total y el pago hacia la agencia\" , 4000 / Alumnos )"
      ]
    },
    {
      "cell_type": "markdown",
      "metadata": {
        "id": "ksUYFjvcFhpq"
      },
      "source": [
        "3. Crea un script que permita adivinar un número. La aplicación genera un número aleatorio del 1 al 100. A continuación va pidiendo números y va respondiendo si el número a adivinar es mayor o menor que el introducido, además de los intentos que te quedan (tienes 10 intentos para acertarlo).  El programa termina cuando se acierta el número (además te dice en cuantos  intentos lo has acertado), si se llega al limite de intentos te muestra el  número que había generado."
      ]
    },
    {
      "cell_type": "code",
      "execution_count": null,
      "metadata": {
        "colab": {
          "base_uri": "https://localhost:8080/"
        },
        "id": "ePA_F-ggERZq",
        "outputId": "fa8a08ee-fb95-4cb0-b0f7-c20100cfc865"
      },
      "outputs": [
        {
          "name": "stdout",
          "output_type": "stream",
          "text": [
            "70\n",
            "Introduzca un numero entre 1-100:69\n",
            "Sube un poco mas, te quedan 9 intentos\n",
            "Introduzca un numero entre 1-100:71\n",
            "Te has pasado, te quedan 8 intentos\n",
            "Introduzca un numero entre 1-100:70\n",
            "\n",
            "Ganaste crack\n"
          ]
        }
      ],
      "source": [
        "import random\n",
        "#Añadimos la biblioteca de random, para que varie entre 1 y 100, a continuacón mediante un bucle, comenzamos a realizar los intentos\n",
        "n=random.randint(1,100)\n",
        "i=int (-1)\n",
        "intentos= 0\n",
        "print(n)\n",
        "while i != n and intentos < 10 :\n",
        "      i=int (input(\"Introduzca un numero entre 1-100:\"))\n",
        "      intentos += 1\n",
        "      if i > n :\n",
        "        print(\"Te has pasado, te quedan\", (10 - (int(intentos))), \"intentos\")\n",
        "      elif i < n :\n",
        "        print(\"Sube un poco mas, te quedan\" ,(10 - (int(intentos))), \"intentos\")\n",
        "      else  :\n",
        "        print()\n",
        "if i == n :\n",
        "  print(\"Ganaste crack\")\n",
        "else :\n",
        "  print(\"Perdiste\")\n",
        "\n"
      ]
    },
    {
      "cell_type": "markdown",
      "metadata": {
        "id": "a8VUj4CxH5Lh"
      },
      "source": [
        "4. Realizar un script que pida una String por teclado que contenga espacios y devuelva el número de palabras que contenga"
      ]
    },
    {
      "cell_type": "code",
      "execution_count": null,
      "metadata": {
        "colab": {
          "base_uri": "https://localhost:8080/"
        },
        "id": "XjlclapwESaJ",
        "outputId": "125d4e65-9165-4a7b-dccd-071720ee135d"
      },
      "outputs": [
        {
          "name": "stdout",
          "output_type": "stream",
          "text": [
            "Introduzca una frase con espacios Ca                                                                              ca\n",
            "El número de palabras en la cadena es:  2\n"
          ]
        }
      ],
      "source": [
        "frase = input(\"Introduzca una frase con espacios \") ; print(\"El número de palabras en la cadena es: \" ,len(frase.split()))"
      ]
    },
    {
      "cell_type": "markdown",
      "metadata": {
        "id": "hyvKdc75IXd5"
      },
      "source": [
        "5. Realiza un script que se le pasen 5 notas de un alumno por teclado (comprendidas entre 0 y 10). A continuación debe mostrar todas las notas, la nota media, la nota más alta que ha sacado y la menor.\n",
        "\n"
      ]
    },
    {
      "cell_type": "code",
      "execution_count": null,
      "metadata": {
        "colab": {
          "base_uri": "https://localhost:8080/",
          "height": 391
        },
        "id": "nOgqvWORETFB",
        "outputId": "7b5495db-7a84-406c-8ba9-6e7972921df7"
      },
      "outputs": [
        {
          "ename": "KeyboardInterrupt",
          "evalue": "Interrupted by user",
          "output_type": "error",
          "traceback": [
            "\u001b[0;31m---------------------------------------------------------------------------\u001b[0m",
            "\u001b[0;31mKeyboardInterrupt\u001b[0m                         Traceback (most recent call last)",
            "\u001b[0;32m<ipython-input-21-3ea65109b7fa>\u001b[0m in \u001b[0;36m<cell line: 3>\u001b[0;34m()\u001b[0m\n\u001b[1;32m      2\u001b[0m \u001b[0mnotas\u001b[0m \u001b[0;34m=\u001b[0m \u001b[0;34m[\u001b[0m\u001b[0;34m]\u001b[0m\u001b[0;34m\u001b[0m\u001b[0;34m\u001b[0m\u001b[0m\n\u001b[1;32m      3\u001b[0m \u001b[0;32mfor\u001b[0m \u001b[0mi\u001b[0m \u001b[0;32min\u001b[0m \u001b[0mrange\u001b[0m\u001b[0;34m(\u001b[0m\u001b[0;36m5\u001b[0m\u001b[0;34m)\u001b[0m\u001b[0;34m:\u001b[0m\u001b[0;34m\u001b[0m\u001b[0;34m\u001b[0m\u001b[0m\n\u001b[0;32m----> 4\u001b[0;31m     \u001b[0mnota\u001b[0m \u001b[0;34m=\u001b[0m \u001b[0mfloat\u001b[0m\u001b[0;34m(\u001b[0m\u001b[0minput\u001b[0m\u001b[0;34m(\u001b[0m\u001b[0;34mf\"Ingrese la nota {i + 1} (entre 0 y 10): \"\u001b[0m\u001b[0;34m)\u001b[0m\u001b[0;34m)\u001b[0m\u001b[0;34m\u001b[0m\u001b[0;34m\u001b[0m\u001b[0m\n\u001b[0m\u001b[1;32m      5\u001b[0m     \u001b[0mnotas\u001b[0m\u001b[0;34m.\u001b[0m\u001b[0mappend\u001b[0m\u001b[0;34m(\u001b[0m\u001b[0mnota\u001b[0m\u001b[0;34m)\u001b[0m\u001b[0;34m\u001b[0m\u001b[0;34m\u001b[0m\u001b[0m\n\u001b[1;32m      6\u001b[0m \u001b[0;34m\u001b[0m\u001b[0m\n",
            "\u001b[0;32m/usr/local/lib/python3.10/dist-packages/ipykernel/kernelbase.py\u001b[0m in \u001b[0;36mraw_input\u001b[0;34m(self, prompt)\u001b[0m\n\u001b[1;32m    849\u001b[0m                 \u001b[0;34m\"raw_input was called, but this frontend does not support input requests.\"\u001b[0m\u001b[0;34m\u001b[0m\u001b[0;34m\u001b[0m\u001b[0m\n\u001b[1;32m    850\u001b[0m             )\n\u001b[0;32m--> 851\u001b[0;31m         return self._input_request(str(prompt),\n\u001b[0m\u001b[1;32m    852\u001b[0m             \u001b[0mself\u001b[0m\u001b[0;34m.\u001b[0m\u001b[0m_parent_ident\u001b[0m\u001b[0;34m,\u001b[0m\u001b[0;34m\u001b[0m\u001b[0;34m\u001b[0m\u001b[0m\n\u001b[1;32m    853\u001b[0m             \u001b[0mself\u001b[0m\u001b[0;34m.\u001b[0m\u001b[0m_parent_header\u001b[0m\u001b[0;34m,\u001b[0m\u001b[0;34m\u001b[0m\u001b[0;34m\u001b[0m\u001b[0m\n",
            "\u001b[0;32m/usr/local/lib/python3.10/dist-packages/ipykernel/kernelbase.py\u001b[0m in \u001b[0;36m_input_request\u001b[0;34m(self, prompt, ident, parent, password)\u001b[0m\n\u001b[1;32m    893\u001b[0m             \u001b[0;32mexcept\u001b[0m \u001b[0mKeyboardInterrupt\u001b[0m\u001b[0;34m:\u001b[0m\u001b[0;34m\u001b[0m\u001b[0;34m\u001b[0m\u001b[0m\n\u001b[1;32m    894\u001b[0m                 \u001b[0;31m# re-raise KeyboardInterrupt, to truncate traceback\u001b[0m\u001b[0;34m\u001b[0m\u001b[0;34m\u001b[0m\u001b[0m\n\u001b[0;32m--> 895\u001b[0;31m                 \u001b[0;32mraise\u001b[0m \u001b[0mKeyboardInterrupt\u001b[0m\u001b[0;34m(\u001b[0m\u001b[0;34m\"Interrupted by user\"\u001b[0m\u001b[0;34m)\u001b[0m \u001b[0;32mfrom\u001b[0m \u001b[0;32mNone\u001b[0m\u001b[0;34m\u001b[0m\u001b[0;34m\u001b[0m\u001b[0m\n\u001b[0m\u001b[1;32m    896\u001b[0m             \u001b[0;32mexcept\u001b[0m \u001b[0mException\u001b[0m \u001b[0;32mas\u001b[0m \u001b[0me\u001b[0m\u001b[0;34m:\u001b[0m\u001b[0;34m\u001b[0m\u001b[0;34m\u001b[0m\u001b[0m\n\u001b[1;32m    897\u001b[0m                 \u001b[0mself\u001b[0m\u001b[0;34m.\u001b[0m\u001b[0mlog\u001b[0m\u001b[0;34m.\u001b[0m\u001b[0mwarning\u001b[0m\u001b[0;34m(\u001b[0m\u001b[0;34m\"Invalid Message:\"\u001b[0m\u001b[0;34m,\u001b[0m \u001b[0mexc_info\u001b[0m\u001b[0;34m=\u001b[0m\u001b[0;32mTrue\u001b[0m\u001b[0;34m)\u001b[0m\u001b[0;34m\u001b[0m\u001b[0;34m\u001b[0m\u001b[0m\n",
            "\u001b[0;31mKeyboardInterrupt\u001b[0m: Interrupted by user"
          ]
        }
      ],
      "source": [
        "# Pedir al usuario que ingrese 5 notas\n",
        "notas = []\n",
        "for i in range(5):\n",
        "    nota = float(input(f\"Ingrese la nota {i + 1} (entre 0 y 10): \"))\n",
        "    notas.append(nota)\n",
        "\n",
        "# Mostrar todas las notas\n",
        "print(\"Notas del alumno:\", notas)\n",
        "\n",
        "# Calcular y mostrar la nota media\n",
        "media = sum(notas) / len(notas)\n",
        "print(\"Nota media:\", media)\n",
        "\n",
        "# Mostrar la nota más alta y la más baja\n",
        "print(\"Nota más alta:\", max(notas))\n",
        "print(\"Nota más baja:\", min(notas))"
      ]
    },
    {
      "cell_type": "markdown",
      "metadata": {
        "id": "ZQxqS603I8S1"
      },
      "source": [
        "6. Realizar un script que cree una una tabla bidimensional de 5x5 y nombre 'diagonal'. La Componentes de la tabla en su diagonales deben de ser 1 y el resto 0. Se ha de mostrar el contenido de la tabla por pantalla."
      ]
    },
    {
      "cell_type": "code",
      "execution_count": null,
      "metadata": {
        "colab": {
          "base_uri": "https://localhost:8080/"
        },
        "id": "b1tXQaS0ETrp",
        "outputId": "203e0d5f-8e64-46b8-a9f8-62ad723eb7a1"
      },
      "outputs": [
        {
          "name": "stdout",
          "output_type": "stream",
          "text": [
            "[1, 0, 0, 0, 1]\n",
            "[0, 1, 0, 1, 0]\n",
            "[0, 0, 1, 0, 0]\n",
            "[0, 1, 0, 1, 0]\n",
            "[1, 0, 0, 0, 1]\n"
          ]
        }
      ],
      "source": [
        "# Crear una matriz bidimensional de 5x5\n",
        "filas = 5\n",
        "columnas = 5\n",
        "diagonal = []\n",
        "\n",
        "# Inicializar la matriz con ceros\n",
        "for i in range(filas):\n",
        "    diagonal.append([0] * columnas)\n",
        "\n",
        "# Asignar 1 a las posiciones de la diagonal principal y secundaria\n",
        "for i in range(filas):\n",
        "    diagonal[i][i] = 1\n",
        "    diagonal[i][filas - i - 1] = 1\n",
        "\n",
        "# Mostrar el contenido de la matriz por pantalla\n",
        "for fila in diagonal:\n",
        "    print(fila)"
      ]
    },
    {
      "cell_type": "markdown",
      "metadata": {
        "id": "Ah0c0PB1Nw_d"
      },
      "source": [
        "7. Crea un script que pida un número y cree un diccionario cuyas claves sean desde el número 1 hasta el número indicado, y los valores sean los cuadrados de las claves.\n",
        "\n"
      ]
    },
    {
      "cell_type": "code",
      "execution_count": null,
      "metadata": {
        "colab": {
          "base_uri": "https://localhost:8080/"
        },
        "id": "OWcoMYqYEUez",
        "outputId": "d4e09b1a-0ad4-4f4c-b0d7-46656165ab49"
      },
      "outputs": [
        {
          "name": "stdout",
          "output_type": "stream",
          "text": [
            "Introduzca un numero 4\n",
            "Diccionario de cuadrados:\n",
            "{1: 1, 2: 4, 3: 9, 4: 16}\n"
          ]
        }
      ],
      "source": [
        "numero =int (input(\"Introduzca un numero \"))\n",
        "diccionario_cuadrados = {i: i**2 for i in range(1, numero + 1)}\n",
        "print(\"Diccionario de cuadrados:\")\n",
        "print(diccionario_cuadrados)\n"
      ]
    },
    {
      "cell_type": "markdown",
      "metadata": {
        "id": "6vqpqY3DJ88o"
      },
      "source": [
        "8. Crea un script de una agenda en la que se guardan nombres y números de teléfono. En la agenda existirá un menú con las siguientes opciones:\n",
        " * **Añadir/modificar**: Nos pide un nombre. Si el nombre se encuentra en la agenda, debe mostrar el teléfono y, opcionalmente, permitir modificarlo si no es correcto. Si el nombre no se encuentra, debe permitir ingresar el teléfono correspondiente.\n",
        " * **Buscar**: Nos pide una cadena de caracteres, y nos muestras todos los contactos cuyos nombres comiencen por dicha cadena.\n",
        " * **Borrar**: Nos pide un nombre y si existe nos preguntará si queremos borrarlo de la agenda.\n",
        " * **Listar**: Nos muestra todos los contactos de la agenda.\n",
        "\n",
        "  Implementar el script con un diccionario."
      ]
    },
    {
      "cell_type": "code",
      "execution_count": null,
      "metadata": {
        "id": "GexEhTmSEVT4"
      },
      "outputs": [],
      "source": [
        "#Declaramos un diccionario llamado agenda\n",
        "agenda = {}\n",
        "opcion=1\n",
        "while opcion != 0:\n",
        "    print(\"\\n\")\n",
        "    print(\"1. Añadir o modificar\")\n",
        "    print(\"2. Buscar en la lista de contactos\")\n",
        "    print(\"3. Borrar un contacto\")\n",
        "    print(\"4. Listar todos los contactos\")\n",
        "    print(\"0. Salir del menú\")\n",
        "#Con esta opcion insertaremos un nombre de contacto y nos pedirá un numero de teléfono con una serie de condicionales, lo podremos modificar si existe.\n",
        "    opcion = int(input(\"Dime opción del menú superior:\"))\n",
        "    if opcion == 1:\n",
        "        nombre = input(\"Nombre del contacto a añadir:\")\n",
        "        if nombre in agenda:\n",
        "            print(\"%s ya existe su número de teléfono es %s\" % (nombre,agenda[nombre]))\n",
        "            opcion = input(\"Pulsa 'Y' si quieres modificarlo!!!. Otra tecla para continuar.\")\n",
        "            if opcion == \"Y\":\n",
        "                numero = input(\"Dame el nuevo número de teléfono:\")\n",
        "                agenda[nombre]=numero\n",
        "        else:\n",
        "            numero = input(\"Introduzce el número de teléfono:\")\n",
        "            agenda[nombre]=numero\n",
        "    elif opcion == 2:\n",
        "#Con esta opción, mediante un startswitch, podremos buscar una cadena de caracteres que coincidan y con print mostrarnoslo\n",
        "        cadena = input(\"Nombre del contacto a listar:\")\n",
        "        for nombre, numero in agenda.items():\n",
        "            if nombre.startswith(cadena):\n",
        "                print(\"El número de teléfono de %s es el %s\" % (nombre,agenda[nombre]))\n",
        "    elif opcion == 3:\n",
        "#Con esta opción, podremos borrar un nombre de contacto a (Deberemos listarlo o saber premeditadamente su nombre)\n",
        "        nombre = input(\"Nombre del contacto para borrar:\")\n",
        "        if nombre in agenda:\n",
        "            opcion = input(\"Pulsa 'Y' si quieres borrarlo!!!. Otra tecla para continuar.\")\n",
        "            if opcion == \"Y\":\n",
        "                del agenda[nombre]\n",
        "        else:\n",
        "            print(\"No existe el contacto\")\n",
        "#Con la última opción, podremos filtrar un nombre, con un bucle for en la lista de agenda, nos buscará el nombre y numero de teléfono\n",
        "    elif opcion == 4:\n",
        "        for nombre, numero in agenda.items():\n",
        "            print(nombre,\"->\",numero)\n",
        "    else:\n",
        "        print(\"Opción incorrecta\")"
      ]
    },
    {
      "cell_type": "markdown",
      "metadata": {
        "id": "-PHluINDPCH5"
      },
      "source": [
        "9. Crear un script que al introducir una fecha nos diga a que día juliano corresponde. El día juliano correspondiente a una fecha es un número entero que indica los días que han transcurrido desde el 1 de enero.Para ello debes de hacer las siguientes funciones:\n",
        " * **LeerFecha**: Lee por teclado el día, mes y el año.\n",
        " * **DiasDelMes**: Recibe un mes y un año y devuelve el número de días\n",
        " * **EsBisiesto**: Recibido un año nos dice si es bisiesto o no.\n",
        " * **Calcular_Dia_Juliano**: Recibe una fecha y nos devuelve el día juliano."
      ]
    },
    {
      "cell_type": "code",
      "execution_count": 7,
      "metadata": {
        "colab": {
          "base_uri": "https://localhost:8080/"
        },
        "id": "EbNdAbeBEV5g",
        "outputId": "ca0192d8-b9db-4cf6-bc5e-79f2af30346c"
      },
      "outputs": [
        {
          "name": "stdout",
          "output_type": "stream",
          "text": [
            "Introduce una fecha en formato YYYY-MM-DD: 2024-01-31\n",
            "El día juliano correspondiente a la fecha 2024-01-31 es: 31\n"
          ]
        }
      ],
      "source": [
        "from datetime import datetime\n",
        "\n",
        "def fecha_a_dia_juliano(fecha):\n",
        "    # Convierte la fecha a un objeto datetime\n",
        "    fecha_obj = datetime.strptime(fecha, '%Y-%m-%d')\n",
        "\n",
        "    # Obtiene la fecha del 1 de enero del mismo año\n",
        "    inicio_anio = datetime(fecha_obj.year, 1, 1)\n",
        "\n",
        "    # Calcula la diferencia en días\n",
        "    dias_transcurridos = (fecha_obj - inicio_anio).days + 1\n",
        "\n",
        "    return dias_transcurridos\n",
        "\n",
        "# Pide al usuario que introduzca una fecha\n",
        "fecha_usuario = input(\"Introduce una fecha en formato YYYY-MM-DD: \")\n",
        "\n",
        "try:\n",
        "    # Intenta convertir la fecha a día juliano y muestra el resultado\n",
        "    dia_juliano = fecha_a_dia_juliano(fecha_usuario)\n",
        "    print(f\"El día juliano correspondiente a la fecha {fecha_usuario} es: {dia_juliano}\")\n",
        "except ValueError:\n",
        "    print(\"Error: El formato de la fecha es incorrecto. Por favor, utiliza el formato YYYY-MM-DD.\")\n"
      ]
    },
    {
      "cell_type": "markdown",
      "metadata": {
        "id": "xQCJ8l2QPU3m"
      },
      "source": [
        "\n",
        "10. Función CalcularMCD: Recibe dos números y devuelve el MCD utilizando el método de Euclides.\n",
        "El método de Euclides es el siguiente:\n",
        " * Se divide el número mayor entre el menor.\n",
        " * Si la división es exacta, el divisor es el MCD.\n",
        " * Si la división no es exacta, dividimos el divisor entre el resto obtenido y se continúa de esta forma hasta obtener una división exacta, siendo el último divisor el MCD.\n"
      ]
    },
    {
      "cell_type": "code",
      "execution_count": 5,
      "metadata": {
        "colab": {
          "base_uri": "https://localhost:8080/"
        },
        "id": "Hk8jGMK4-F0l",
        "outputId": "28bcff93-1ccd-401b-e2f3-c8a4ac812631"
      },
      "outputs": [
        {
          "name": "stdout",
          "output_type": "stream",
          "text": [
            "Ingrese el primer número: 500 \n",
            "Ingrese el segundo número: 556\n",
            "El MCD de 500 y 556 es: 4\n"
          ]
        }
      ],
      "source": [
        "def calcular_mcd(a, b):\n",
        "    while b:\n",
        "        a, b = b, a % b\n",
        "    return a\n",
        "\n",
        "# Ejemplo de uso\n",
        "numero1 = int(input(\"Ingrese el primer número: \"))\n",
        "numero2 = int(input(\"Ingrese el segundo número: \"))\n",
        "\n",
        "mcd = calcular_mcd(numero1, numero2)\n",
        "print(f\"El MCD de {numero1} y {numero2} es: {mcd}\")\n"
      ]
    }
  ],
  "metadata": {
    "colab": {
      "provenance": []
    },
    "kernelspec": {
      "display_name": "Python 3",
      "name": "python3"
    },
    "language_info": {
      "name": "python"
    }
  },
  "nbformat": 4,
  "nbformat_minor": 0
}
